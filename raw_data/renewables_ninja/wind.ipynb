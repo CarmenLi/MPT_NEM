{
 "cells": [
  {
   "cell_type": "code",
   "execution_count": null,
   "metadata": {},
   "outputs": [],
   "source": [
    "import requests\n",
    "import pandas as pd\n",
    "import json\n",
    "import time\n",
    "import os\n",
    "\n",
    "token = \"\"\"<<INSERT YOUR TOKEN>>\"\"\"\n",
    "api_base = 'https://www.renewables.ninja/api/'\n",
    "\n",
    "s = requests.session()\n",
    "\n",
    "# Send token header with each request\n",
    "s.headers = {'Authorization': 'Token ' + token}"
   ]
  },
  {
   "cell_type": "code",
   "execution_count": null,
   "metadata": {},
   "outputs": [],
   "source": [
    "cwd=os.getcwd()\n",
    "df_coords=pd.read_csv(os.path.join(cwd, '../../NEM_zone_sampling_coords_wind.csv'), index_col='name')\n",
    "df_coords"
   ]
  },
  {
   "cell_type": "code",
   "execution_count": null,
   "metadata": {},
   "outputs": [],
   "source": [
    "start_year=2000\n",
    "end_year=2019\n",
    "\n",
    "# set params\n",
    "capacity=100\n",
    "height=100\n",
    "turbine='Siemens Gamesa SG 4.5 145'"
   ]
  },
  {
   "cell_type": "code",
   "execution_count": null,
   "metadata": {},
   "outputs": [],
   "source": [
    "########\n",
    "# Wind \n",
    "########\n",
    "\n",
    "\n",
    "url = api_base + 'data/wind'\n",
    "\n",
    "for year in range(start_year, end_year+1):\n",
    "    for point in df_coords.index:\n",
    "        args = {\n",
    "            'lat': df_coords.loc[point,'lat'],\n",
    "            'lon': df_coords.loc[point,'lon'],\n",
    "            'date_from': ('%s-01-01' %str(year)),\n",
    "            'date_to': ('%s-12-31' %str(year)),\n",
    "            'capacity': capacity,\n",
    "            'height': height,\n",
    "            'turbine': turbine,\n",
    "            'header':'false',\n",
    "            'raw':'true',\n",
    "            'local_time':'true',\n",
    "            'format': 'json'\n",
    "        }\n",
    "        \n",
    "\n",
    "        r = s.get(url, params=args)\n",
    "        parsed_response = json.loads(r.text)\n",
    "        data = pd.read_json(json.dumps(parsed_response), orient='index')\n",
    "        data.to_csv('wind/%s_%s.csv' %(point,year))\n",
    "        time.sleep(80)\n",
    "    print(year)"
   ]
  },
  {
   "cell_type": "code",
   "execution_count": null,
   "metadata": {},
   "outputs": [],
   "source": []
  }
 ],
 "metadata": {
  "kernelspec": {
   "display_name": "Python 3 (ipykernel)",
   "language": "python",
   "name": "python3"
  },
  "language_info": {
   "codemirror_mode": {
    "name": "ipython",
    "version": 3
   },
   "file_extension": ".py",
   "mimetype": "text/x-python",
   "name": "python",
   "nbconvert_exporter": "python",
   "pygments_lexer": "ipython3",
   "version": "3.10.12"
  }
 },
 "nbformat": 4,
 "nbformat_minor": 2
}
