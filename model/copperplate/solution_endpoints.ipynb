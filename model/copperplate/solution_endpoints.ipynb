{
 "cells": [
  {
   "cell_type": "code",
   "execution_count": 1,
   "id": "97bd5a11",
   "metadata": {},
   "outputs": [],
   "source": [
    "import pandas as pd\n",
    "import numpy as np\n",
    "import matplotlib.pyplot as plt\n",
    "import pickle\n",
    "%matplotlib inline\n"
   ]
  },
  {
   "cell_type": "markdown",
   "id": "ace59084",
   "metadata": {},
   "source": [
    "### load data"
   ]
  },
  {
   "cell_type": "code",
   "execution_count": 2,
   "id": "bc0512ac",
   "metadata": {},
   "outputs": [
    {
     "data": {
      "text/plain": [
       "count    87672.000000\n",
       "mean         0.672161\n",
       "std          0.092507\n",
       "min          0.423928\n",
       "25%          0.601167\n",
       "50%          0.677592\n",
       "75%          0.741519\n",
       "max          1.000000\n",
       "Name: NEM, dtype: float64"
      ]
     },
     "execution_count": 2,
     "metadata": {},
     "output_type": "execute_result"
    }
   ],
   "source": [
    "# demand factor\n",
    "\n",
    "file = open('../../preprocessing/s_demand.pkl', 'rb')\n",
    "\n",
    "s_demand = pickle.load(file)\n",
    "\n",
    "file.close()\n",
    "\n",
    "s_demand.describe()"
   ]
  },
  {
   "cell_type": "code",
   "execution_count": 3,
   "id": "d70b2a67",
   "metadata": {},
   "outputs": [
    {
     "data": {
      "text/html": [
       "<div>\n",
       "<style scoped>\n",
       "    .dataframe tbody tr th:only-of-type {\n",
       "        vertical-align: middle;\n",
       "    }\n",
       "\n",
       "    .dataframe tbody tr th {\n",
       "        vertical-align: top;\n",
       "    }\n",
       "\n",
       "    .dataframe thead th {\n",
       "        text-align: right;\n",
       "    }\n",
       "</style>\n",
       "<table border=\"1\" class=\"dataframe\">\n",
       "  <thead>\n",
       "    <tr style=\"text-align: right;\">\n",
       "      <th></th>\n",
       "      <th>NSA_wind</th>\n",
       "      <th>ADE_wind</th>\n",
       "      <th>SESA_wind</th>\n",
       "      <th>NQ_wind</th>\n",
       "      <th>CQ_wind</th>\n",
       "      <th>SWQ_wind</th>\n",
       "      <th>SEQ_wind</th>\n",
       "      <th>NNS_wind</th>\n",
       "      <th>NCEN_wind</th>\n",
       "      <th>SWNSW_wind</th>\n",
       "      <th>...</th>\n",
       "      <th>SEQ_pv</th>\n",
       "      <th>NNS_pv</th>\n",
       "      <th>NCEN_pv</th>\n",
       "      <th>SWNSW_pv</th>\n",
       "      <th>CAN_pv</th>\n",
       "      <th>CVIC_pv</th>\n",
       "      <th>NVIC_pv</th>\n",
       "      <th>MEL_pv</th>\n",
       "      <th>LV_pv</th>\n",
       "      <th>TAS_pv</th>\n",
       "    </tr>\n",
       "  </thead>\n",
       "  <tbody>\n",
       "    <tr>\n",
       "      <th>count</th>\n",
       "      <td>87672.000000</td>\n",
       "      <td>87672.000000</td>\n",
       "      <td>87672.000000</td>\n",
       "      <td>87672.000000</td>\n",
       "      <td>87672.000000</td>\n",
       "      <td>87672.000000</td>\n",
       "      <td>87672.000000</td>\n",
       "      <td>87672.000000</td>\n",
       "      <td>87672.000000</td>\n",
       "      <td>87672.000000</td>\n",
       "      <td>...</td>\n",
       "      <td>87672.000000</td>\n",
       "      <td>87672.000000</td>\n",
       "      <td>87672.000000</td>\n",
       "      <td>87672.000000</td>\n",
       "      <td>87672.000000</td>\n",
       "      <td>87672.000000</td>\n",
       "      <td>87672.000000</td>\n",
       "      <td>87672.000000</td>\n",
       "      <td>87672.000000</td>\n",
       "      <td>87672.000000</td>\n",
       "    </tr>\n",
       "    <tr>\n",
       "      <th>mean</th>\n",
       "      <td>0.487176</td>\n",
       "      <td>0.518950</td>\n",
       "      <td>0.482749</td>\n",
       "      <td>0.412358</td>\n",
       "      <td>0.399124</td>\n",
       "      <td>0.371925</td>\n",
       "      <td>0.298820</td>\n",
       "      <td>0.369941</td>\n",
       "      <td>0.410580</td>\n",
       "      <td>0.430320</td>\n",
       "      <td>...</td>\n",
       "      <td>0.223738</td>\n",
       "      <td>0.230826</td>\n",
       "      <td>0.224122</td>\n",
       "      <td>0.227533</td>\n",
       "      <td>0.221578</td>\n",
       "      <td>0.220851</td>\n",
       "      <td>0.213939</td>\n",
       "      <td>0.200579</td>\n",
       "      <td>0.191443</td>\n",
       "      <td>0.184123</td>\n",
       "    </tr>\n",
       "    <tr>\n",
       "      <th>std</th>\n",
       "      <td>0.250937</td>\n",
       "      <td>0.311564</td>\n",
       "      <td>0.294525</td>\n",
       "      <td>0.186893</td>\n",
       "      <td>0.209994</td>\n",
       "      <td>0.216614</td>\n",
       "      <td>0.232979</td>\n",
       "      <td>0.229998</td>\n",
       "      <td>0.264962</td>\n",
       "      <td>0.256515</td>\n",
       "      <td>...</td>\n",
       "      <td>0.292910</td>\n",
       "      <td>0.300694</td>\n",
       "      <td>0.294765</td>\n",
       "      <td>0.299780</td>\n",
       "      <td>0.302242</td>\n",
       "      <td>0.298624</td>\n",
       "      <td>0.293695</td>\n",
       "      <td>0.280950</td>\n",
       "      <td>0.271458</td>\n",
       "      <td>0.273811</td>\n",
       "    </tr>\n",
       "    <tr>\n",
       "      <th>min</th>\n",
       "      <td>0.000170</td>\n",
       "      <td>0.000000</td>\n",
       "      <td>0.000000</td>\n",
       "      <td>0.003431</td>\n",
       "      <td>0.000033</td>\n",
       "      <td>0.000023</td>\n",
       "      <td>0.000000</td>\n",
       "      <td>0.000073</td>\n",
       "      <td>0.000015</td>\n",
       "      <td>0.000000</td>\n",
       "      <td>...</td>\n",
       "      <td>0.000000</td>\n",
       "      <td>0.000000</td>\n",
       "      <td>0.000000</td>\n",
       "      <td>0.000000</td>\n",
       "      <td>0.000000</td>\n",
       "      <td>0.000000</td>\n",
       "      <td>0.000000</td>\n",
       "      <td>0.000000</td>\n",
       "      <td>0.000000</td>\n",
       "      <td>0.000000</td>\n",
       "    </tr>\n",
       "    <tr>\n",
       "      <th>25%</th>\n",
       "      <td>0.283203</td>\n",
       "      <td>0.239799</td>\n",
       "      <td>0.226274</td>\n",
       "      <td>0.268482</td>\n",
       "      <td>0.233753</td>\n",
       "      <td>0.195482</td>\n",
       "      <td>0.115597</td>\n",
       "      <td>0.175866</td>\n",
       "      <td>0.176217</td>\n",
       "      <td>0.215271</td>\n",
       "      <td>...</td>\n",
       "      <td>0.000000</td>\n",
       "      <td>0.000000</td>\n",
       "      <td>0.000000</td>\n",
       "      <td>0.000000</td>\n",
       "      <td>0.000000</td>\n",
       "      <td>0.000000</td>\n",
       "      <td>0.000000</td>\n",
       "      <td>0.000000</td>\n",
       "      <td>0.000000</td>\n",
       "      <td>0.000000</td>\n",
       "    </tr>\n",
       "    <tr>\n",
       "      <th>50%</th>\n",
       "      <td>0.487286</td>\n",
       "      <td>0.532403</td>\n",
       "      <td>0.470042</td>\n",
       "      <td>0.412669</td>\n",
       "      <td>0.403292</td>\n",
       "      <td>0.361328</td>\n",
       "      <td>0.243690</td>\n",
       "      <td>0.352348</td>\n",
       "      <td>0.392946</td>\n",
       "      <td>0.422647</td>\n",
       "      <td>...</td>\n",
       "      <td>0.003167</td>\n",
       "      <td>0.004674</td>\n",
       "      <td>0.003822</td>\n",
       "      <td>0.004537</td>\n",
       "      <td>0.001356</td>\n",
       "      <td>0.001878</td>\n",
       "      <td>0.001367</td>\n",
       "      <td>0.001156</td>\n",
       "      <td>0.000933</td>\n",
       "      <td>0.000000</td>\n",
       "    </tr>\n",
       "    <tr>\n",
       "      <th>75%</th>\n",
       "      <td>0.689897</td>\n",
       "      <td>0.805126</td>\n",
       "      <td>0.736311</td>\n",
       "      <td>0.553285</td>\n",
       "      <td>0.558590</td>\n",
       "      <td>0.530006</td>\n",
       "      <td>0.435457</td>\n",
       "      <td>0.540617</td>\n",
       "      <td>0.625332</td>\n",
       "      <td>0.633184</td>\n",
       "      <td>...</td>\n",
       "      <td>0.476179</td>\n",
       "      <td>0.497844</td>\n",
       "      <td>0.476866</td>\n",
       "      <td>0.475440</td>\n",
       "      <td>0.440186</td>\n",
       "      <td>0.460181</td>\n",
       "      <td>0.428022</td>\n",
       "      <td>0.382439</td>\n",
       "      <td>0.353978</td>\n",
       "      <td>0.318978</td>\n",
       "    </tr>\n",
       "    <tr>\n",
       "      <th>max</th>\n",
       "      <td>0.990404</td>\n",
       "      <td>0.991690</td>\n",
       "      <td>0.991685</td>\n",
       "      <td>0.966683</td>\n",
       "      <td>0.980837</td>\n",
       "      <td>0.986573</td>\n",
       "      <td>0.991660</td>\n",
       "      <td>0.991663</td>\n",
       "      <td>0.991540</td>\n",
       "      <td>0.991620</td>\n",
       "      <td>...</td>\n",
       "      <td>0.921856</td>\n",
       "      <td>0.952050</td>\n",
       "      <td>0.945950</td>\n",
       "      <td>0.952181</td>\n",
       "      <td>0.986578</td>\n",
       "      <td>0.948800</td>\n",
       "      <td>0.957956</td>\n",
       "      <td>0.967111</td>\n",
       "      <td>0.982356</td>\n",
       "      <td>1.000000</td>\n",
       "    </tr>\n",
       "  </tbody>\n",
       "</table>\n",
       "<p>8 rows × 32 columns</p>\n",
       "</div>"
      ],
      "text/plain": [
       "           NSA_wind      ADE_wind     SESA_wind       NQ_wind       CQ_wind  \\\n",
       "count  87672.000000  87672.000000  87672.000000  87672.000000  87672.000000   \n",
       "mean       0.487176      0.518950      0.482749      0.412358      0.399124   \n",
       "std        0.250937      0.311564      0.294525      0.186893      0.209994   \n",
       "min        0.000170      0.000000      0.000000      0.003431      0.000033   \n",
       "25%        0.283203      0.239799      0.226274      0.268482      0.233753   \n",
       "50%        0.487286      0.532403      0.470042      0.412669      0.403292   \n",
       "75%        0.689897      0.805126      0.736311      0.553285      0.558590   \n",
       "max        0.990404      0.991690      0.991685      0.966683      0.980837   \n",
       "\n",
       "           SWQ_wind      SEQ_wind      NNS_wind     NCEN_wind    SWNSW_wind  \\\n",
       "count  87672.000000  87672.000000  87672.000000  87672.000000  87672.000000   \n",
       "mean       0.371925      0.298820      0.369941      0.410580      0.430320   \n",
       "std        0.216614      0.232979      0.229998      0.264962      0.256515   \n",
       "min        0.000023      0.000000      0.000073      0.000015      0.000000   \n",
       "25%        0.195482      0.115597      0.175866      0.176217      0.215271   \n",
       "50%        0.361328      0.243690      0.352348      0.392946      0.422647   \n",
       "75%        0.530006      0.435457      0.540617      0.625332      0.633184   \n",
       "max        0.986573      0.991660      0.991663      0.991540      0.991620   \n",
       "\n",
       "       ...        SEQ_pv        NNS_pv       NCEN_pv      SWNSW_pv  \\\n",
       "count  ...  87672.000000  87672.000000  87672.000000  87672.000000   \n",
       "mean   ...      0.223738      0.230826      0.224122      0.227533   \n",
       "std    ...      0.292910      0.300694      0.294765      0.299780   \n",
       "min    ...      0.000000      0.000000      0.000000      0.000000   \n",
       "25%    ...      0.000000      0.000000      0.000000      0.000000   \n",
       "50%    ...      0.003167      0.004674      0.003822      0.004537   \n",
       "75%    ...      0.476179      0.497844      0.476866      0.475440   \n",
       "max    ...      0.921856      0.952050      0.945950      0.952181   \n",
       "\n",
       "             CAN_pv       CVIC_pv       NVIC_pv        MEL_pv         LV_pv  \\\n",
       "count  87672.000000  87672.000000  87672.000000  87672.000000  87672.000000   \n",
       "mean       0.221578      0.220851      0.213939      0.200579      0.191443   \n",
       "std        0.302242      0.298624      0.293695      0.280950      0.271458   \n",
       "min        0.000000      0.000000      0.000000      0.000000      0.000000   \n",
       "25%        0.000000      0.000000      0.000000      0.000000      0.000000   \n",
       "50%        0.001356      0.001878      0.001367      0.001156      0.000933   \n",
       "75%        0.440186      0.460181      0.428022      0.382439      0.353978   \n",
       "max        0.986578      0.948800      0.957956      0.967111      0.982356   \n",
       "\n",
       "             TAS_pv  \n",
       "count  87672.000000  \n",
       "mean       0.184123  \n",
       "std        0.273811  \n",
       "min        0.000000  \n",
       "25%        0.000000  \n",
       "50%        0.000000  \n",
       "75%        0.318978  \n",
       "max        1.000000  \n",
       "\n",
       "[8 rows x 32 columns]"
      ]
     },
     "execution_count": 3,
     "metadata": {},
     "output_type": "execute_result"
    }
   ],
   "source": [
    "# VRE capacity factor \n",
    "\n",
    "file1 = open('../../preprocessing/df_VRE.pkl', 'rb')\n",
    "\n",
    "df_VRE = pickle.load(file1)\n",
    "\n",
    "file1.close()\n",
    "\n",
    "df_VRE.describe()"
   ]
  },
  {
   "cell_type": "code",
   "execution_count": 4,
   "id": "2518b009",
   "metadata": {},
   "outputs": [
    {
     "data": {
      "text/plain": [
       "(100, 17520)"
      ]
     },
     "execution_count": 4,
     "metadata": {},
     "output_type": "execute_result"
    }
   ],
   "source": [
    "# bootstrap selections\n",
    "file2 = open('M_bootstrap.pkl', 'rb')\n",
    "\n",
    "M_bootstrap = pickle.load(file2)\n",
    "\n",
    "file2.close()\n",
    "\n",
    "M_bootstrap.shape"
   ]
  },
  {
   "cell_type": "code",
   "execution_count": 5,
   "id": "d136c5f2",
   "metadata": {},
   "outputs": [
    {
     "data": {
      "text/html": [
       "<div>\n",
       "<style scoped>\n",
       "    .dataframe tbody tr th:only-of-type {\n",
       "        vertical-align: middle;\n",
       "    }\n",
       "\n",
       "    .dataframe tbody tr th {\n",
       "        vertical-align: top;\n",
       "    }\n",
       "\n",
       "    .dataframe thead th {\n",
       "        text-align: right;\n",
       "    }\n",
       "</style>\n",
       "<table border=\"1\" class=\"dataframe\">\n",
       "  <thead>\n",
       "    <tr style=\"text-align: right;\">\n",
       "      <th></th>\n",
       "      <th>CAP [AUD/kW]</th>\n",
       "      <th>fixed O&amp;M [AUD/kW/yr]</th>\n",
       "      <th>variable O&amp;M [AUD/MWh]</th>\n",
       "      <th>CO2 store [AUD/MWh]</th>\n",
       "      <th>fuel [AUD/MWh]</th>\n",
       "    </tr>\n",
       "    <tr>\n",
       "      <th>technology</th>\n",
       "      <th></th>\n",
       "      <th></th>\n",
       "      <th></th>\n",
       "      <th></th>\n",
       "      <th></th>\n",
       "    </tr>\n",
       "  </thead>\n",
       "  <tbody>\n",
       "    <tr>\n",
       "      <th>onshore</th>\n",
       "      <td>1642</td>\n",
       "      <td>25.00</td>\n",
       "      <td>0.00</td>\n",
       "      <td>0.00</td>\n",
       "      <td>0.000000</td>\n",
       "    </tr>\n",
       "    <tr>\n",
       "      <th>solar</th>\n",
       "      <td>498</td>\n",
       "      <td>17.00</td>\n",
       "      <td>0.00</td>\n",
       "      <td>0.00</td>\n",
       "      <td>0.000000</td>\n",
       "    </tr>\n",
       "    <tr>\n",
       "      <th>gasCCS</th>\n",
       "      <td>3012</td>\n",
       "      <td>16.35</td>\n",
       "      <td>7.20</td>\n",
       "      <td>1.90</td>\n",
       "      <td>106.568182</td>\n",
       "    </tr>\n",
       "    <tr>\n",
       "      <th>coalCCS</th>\n",
       "      <td>8083</td>\n",
       "      <td>77.80</td>\n",
       "      <td>7.95</td>\n",
       "      <td>4.13</td>\n",
       "      <td>34.600000</td>\n",
       "    </tr>\n",
       "    <tr>\n",
       "      <th>rooftop solar</th>\n",
       "      <td>483</td>\n",
       "      <td>17.00</td>\n",
       "      <td>0.00</td>\n",
       "      <td>0.00</td>\n",
       "      <td>0.000000</td>\n",
       "    </tr>\n",
       "    <tr>\n",
       "      <th>grid solar</th>\n",
       "      <td>513</td>\n",
       "      <td>17.00</td>\n",
       "      <td>0.00</td>\n",
       "      <td>0.00</td>\n",
       "      <td>0.000000</td>\n",
       "    </tr>\n",
       "    <tr>\n",
       "      <th>biomass</th>\n",
       "      <td>7292</td>\n",
       "      <td>131.60</td>\n",
       "      <td>8.40</td>\n",
       "      <td>0.00</td>\n",
       "      <td>0.000000</td>\n",
       "    </tr>\n",
       "    <tr>\n",
       "      <th>hydro</th>\n",
       "      <td>5500</td>\n",
       "      <td>100.00</td>\n",
       "      <td>0.00</td>\n",
       "      <td>0.00</td>\n",
       "      <td>0.000000</td>\n",
       "    </tr>\n",
       "  </tbody>\n",
       "</table>\n",
       "</div>"
      ],
      "text/plain": [
       "               CAP [AUD/kW]  fixed O&M [AUD/kW/yr]  variable O&M [AUD/MWh]  \\\n",
       "technology                                                                   \n",
       "onshore                1642                  25.00                    0.00   \n",
       "solar                   498                  17.00                    0.00   \n",
       "gasCCS                 3012                  16.35                    7.20   \n",
       "coalCCS                8083                  77.80                    7.95   \n",
       "rooftop solar           483                  17.00                    0.00   \n",
       "grid solar              513                  17.00                    0.00   \n",
       "biomass                7292                 131.60                    8.40   \n",
       "hydro                  5500                 100.00                    0.00   \n",
       "\n",
       "               CO2 store [AUD/MWh]  fuel [AUD/MWh]  \n",
       "technology                                          \n",
       "onshore                       0.00        0.000000  \n",
       "solar                         0.00        0.000000  \n",
       "gasCCS                        1.90      106.568182  \n",
       "coalCCS                       4.13       34.600000  \n",
       "rooftop solar                 0.00        0.000000  \n",
       "grid solar                    0.00        0.000000  \n",
       "biomass                       0.00        0.000000  \n",
       "hydro                         0.00        0.000000  "
      ]
     },
     "execution_count": 5,
     "metadata": {},
     "output_type": "execute_result"
    }
   ],
   "source": [
    "df_cost=pd.read_csv('../../raw_data/gencost_2223_summary.csv', skiprows=1, index_col=0)\n",
    "df_cost"
   ]
  },
  {
   "cell_type": "code",
   "execution_count": 6,
   "id": "10413953",
   "metadata": {},
   "outputs": [
    {
     "name": "stdout",
     "output_type": "stream",
     "text": [
      "CAP wind 65680.0\n",
      "O&M wind 25000.0\n",
      "CAP pv 19920.0\n",
      "O&M pv 17000.0\n",
      "CAP gas 120480.0\n",
      "O&M gas 16350.000000000002\n",
      "var cost of gas 115.66818181818199\n"
     ]
    }
   ],
   "source": [
    "# capacity cost per MW per year, assuming 25 years economic life\n",
    "\n",
    "cap_wind=df_cost.iloc[0,0]*1000/25 #[AUD/MW/yr]\n",
    "cap_pv=df_cost.iloc[1,0]*1000/25 #[AUD/MW/yr]\n",
    "cap_gas=df_cost.iloc[2,0]*1000/25 #[AUD/MW/yr]\n",
    "\n",
    "fOM_wind=df_cost.iloc[0,1]*1000 #[AUD/MW/yr] \n",
    "fOM_pv=df_cost.iloc[1,1]*1000 #[AUD/MW/yr] \n",
    "fOM_gas=df_cost.iloc[2,1]*1000 #[AUD/MW/yr] \n",
    "\n",
    "\n",
    "\n",
    "# energy cost per MWh\n",
    "gvar=df_cost.iloc[2, [2,3,4]].sum() # total variable cost of gas with CCS [AUD/MWh]\n",
    "\n",
    "# check\n",
    "print('CAP wind', cap_wind)\n",
    "print('O&M wind', fOM_wind)\n",
    "print('CAP pv', cap_pv)\n",
    "print('O&M pv', fOM_pv)\n",
    "print('CAP gas', cap_gas)\n",
    "print('O&M gas', fOM_gas)\n",
    "print('var cost of gas', gvar)\n"
   ]
  },
  {
   "cell_type": "markdown",
   "id": "d8c28681",
   "metadata": {},
   "source": [
    "### determine cost values on the efficient frontier"
   ]
  },
  {
   "cell_type": "code",
   "execution_count": 7,
   "id": "c7127b87",
   "metadata": {},
   "outputs": [
    {
     "name": "stdout",
     "output_type": "stream",
     "text": [
      "2004-2006\n",
      "Optimization terminated successfully. (HiGHS Status 7: Optimal)\n",
      "274932.7382251944\n",
      "[0.47011608 0.         0.         0.75929332 0.         0.11045319\n",
      " 0.         0.         0.         0.         0.         0.\n",
      " 0.         0.         0.         0.20514202 0.48525458 0.\n",
      " 0.         0.19569947 0.         0.         0.         0.\n",
      " 0.         0.         0.         0.         0.         0.\n",
      " 0.         0.         0.59709659]\n"
     ]
    }
   ],
   "source": [
    "################\n",
    "# min cost portfolio, sample 3 years\n",
    "################\n",
    "\n",
    "from scipy.optimize import linprog\n",
    "\n",
    "_s_demand=s_demand.loc[(s_demand.index.year>=2004)& (s_demand.index.year<=2006)]\n",
    "_df_VRE=df_VRE.loc[(df_VRE.index.year>=2004)& (df_VRE.index.year<=2006)]\n",
    "\n",
    "M_p=_df_VRE.values\n",
    "\n",
    "\n",
    "T=len(_s_demand) # number of hours / time steps\n",
    "N_years=3\n",
    "\n",
    "v_VREfixed=np.concatenate([np.repeat((cap_wind + fOM_wind),16) , np.repeat((cap_pv + fOM_pv),16)])\n",
    "v_allfixed=np.append(v_VREfixed, cap_gas + fOM_gas)\n",
    "\n",
    "# objective\n",
    "c=np.concatenate([v_allfixed , np.repeat(gvar/N_years, T)]) # v_x =[X_i, X_g, g_t]\n",
    "\n",
    "# equality constraint: there is none\n",
    "\n",
    "#inequality constraints\n",
    "## no demand deficit\n",
    "Aub_demand=np.hstack([-M_p, np.zeros((T,1)), -np.identity(T)])\n",
    "bub_demand=-(_s_demand.values)\n",
    "## capacity of gas\n",
    "Aub_gas=np.hstack([np.zeros((T,32)), -np.ones((T,1)),  np.identity(T)])\n",
    "bub_gas=np.zeros(T)\n",
    "## VRE IC\n",
    "Aub_IC=np.concatenate([np.repeat(-1, 32), np.repeat(0, T+1)]).reshape(1,-1)\n",
    "bub_IC=-1\n",
    "\n",
    "Aub=np.vstack([Aub_demand, Aub_gas, Aub_IC])\n",
    "\n",
    "bub=np.append(np.append(bub_demand, bub_gas), bub_IC)\n",
    "\n",
    "lb=np.repeat(0, len(c))\n",
    "ub=np.concatenate([np.repeat(100, 32), np.repeat(1, T+1)])\n",
    "bounds=[(lb[i], ub[i]) for i in range(len(lb))]\n",
    "\n",
    "res = linprog(c, A_ub=Aub, b_ub=bub, bounds=bounds, method='highs-ipm')\n",
    "\n",
    "print('2004-2006')\n",
    "print(res.message)\n",
    "\n",
    "print(res.fun)\n",
    "\n",
    "portfolio_mincost_sample=res.x[:33]\n",
    "print(portfolio_mincost_sample)\n"
   ]
  },
  {
   "cell_type": "code",
   "execution_count": 8,
   "id": "4d1d9ba0",
   "metadata": {},
   "outputs": [
    {
     "data": {
      "text/plain": [
       "2.225958663878993"
      ]
     },
     "execution_count": 8,
     "metadata": {},
     "output_type": "execute_result"
    }
   ],
   "source": [
    "res.x[:32].sum()"
   ]
  },
  {
   "cell_type": "code",
   "execution_count": 9,
   "id": "f6e1891d",
   "metadata": {},
   "outputs": [
    {
     "data": {
      "image/png": "[encoded data removed]",
      "text/plain": [
       "<Figure size 432x288 with 1 Axes>"
      ]
     },
     "metadata": {
      "needs_background": "light"
     },
     "output_type": "display_data"
    }
   ],
   "source": [
    "plt.plot(res.x[34:])\n",
    "plt.show()"
   ]
  },
  {
   "cell_type": "code",
   "execution_count": 10,
   "id": "739aa413",
   "metadata": {},
   "outputs": [
    {
     "data": {
      "text/plain": [
       "0.5970965940626027"
      ]
     },
     "execution_count": 10,
     "metadata": {},
     "output_type": "execute_result"
    }
   ],
   "source": [
    "res.x[34:].max()"
   ]
  },
  {
   "cell_type": "code",
   "execution_count": 11,
   "id": "68f4cfe8",
   "metadata": {},
   "outputs": [
    {
     "data": {
      "text/plain": [
       "array([-0.00418509, -0.00178896, -0.00028949, -0.00101158, -0.00173755,\n",
       "       -0.00183957,  0.00164528, -0.00367551, -0.00380156, -0.00477207,\n",
       "        0.00148371, -0.00166131, -0.00102623,  0.00036318,  0.00163806,\n",
       "        0.00078705,  0.01153599,  0.01064295,  0.01046057,  0.01151853,\n",
       "        0.01160642,  0.01137502,  0.0109594 ,  0.0112153 ,  0.01093153,\n",
       "        0.01113282,  0.0107078 ,  0.01081024,  0.01043662,  0.00999292,\n",
       "        0.00967602,  0.00936088])"
      ]
     },
     "execution_count": 11,
     "metadata": {},
     "output_type": "execute_result"
    }
   ],
   "source": [
    "np.array([np.cov(s_demand.values, df_VRE[col])[0,1] for col in df_VRE.columns])"
   ]
  },
  {
   "cell_type": "code",
   "execution_count": 12,
   "id": "c445a0c8",
   "metadata": {},
   "outputs": [
    {
     "name": "stdout",
     "output_type": "stream",
     "text": [
      "optimal =  True\n",
      "objective = 0.010550623552810466\n"
     ]
    }
   ],
   "source": [
    "#################\n",
    "# min risk portfolio, computed from COV of full dataset\n",
    "#################\n",
    "\n",
    "P_cov=df_VRE.cov().values\n",
    "\n",
    "Pd_cov=np.array([np.cov(s_demand, df_VRE[col])[0,1] for col in df_VRE.columns])\n",
    "\n",
    "from qpsolvers import Problem, solve_problem\n",
    "from scipy import sparse\n",
    "\n",
    "\n",
    "problem_minrisk_all = Problem(P=P_cov, q=-Pd_cov, G=-np.repeat(1,32), h=np.array([-1]),  A=None, \n",
    "                          lb=np.zeros(32), ub=np.repeat(100, 32))                         \n",
    "# quadprog is the best solver here\n",
    "solution_minrisk_all = solve_problem(problem_minrisk_all, solver='quadprog', verbose=True)\n",
    "\n",
    "print('optimal = ', solution_minrisk_all.is_optimal(1e-8))\n",
    "print('objective =', solution_minrisk_all.obj+s_demand.var())"
   ]
  },
  {
   "cell_type": "code",
   "execution_count": 13,
   "id": "d245a0b6",
   "metadata": {},
   "outputs": [
    {
     "data": {
      "text/plain": [
       "array([ 8.79758036e-02,  1.03341931e-17,  4.49361139e-19,  2.45534506e-01,\n",
       "        3.39294600e-02,  1.31584476e-01,  3.29732405e-02,  4.69012301e-19,\n",
       "        0.00000000e+00, -9.81290168e-18,  5.57553298e-02,  6.62149859e-19,\n",
       "        2.43873045e-02, -7.84258861e-19,  2.46707061e-02,  2.96022769e-02,\n",
       "        1.93348994e-02,  6.20047214e-02,  2.73343107e-19,  1.11071449e-01,\n",
       "       -1.22958542e-17, -5.66744833e-17,  1.08703697e-18, -3.92583198e-18,\n",
       "        1.89600423e-17,  2.26093011e-17, -7.61120705e-18, -5.33684351e-17,\n",
       "       -4.54467485e-17, -4.85446456e-17,  5.84603259e-02,  8.27155016e-02])"
      ]
     },
     "execution_count": 13,
     "metadata": {},
     "output_type": "execute_result"
    }
   ],
   "source": [
    "portfolio_minrisk_all=solution_minrisk_all.x\n",
    "portfolio_minrisk_all"
   ]
  },
  {
   "cell_type": "code",
   "execution_count": 14,
   "id": "8b74fe21",
   "metadata": {},
   "outputs": [
    {
     "data": {
      "text/plain": [
       "0.9999999999999998"
      ]
     },
     "execution_count": 14,
     "metadata": {},
     "output_type": "execute_result"
    }
   ],
   "source": [
    "portfolio_minrisk_all.sum()"
   ]
  },
  {
   "cell_type": "code",
   "execution_count": 15,
   "id": "6d9b63b3",
   "metadata": {},
   "outputs": [
    {
     "name": "stdout",
     "output_type": "stream",
     "text": [
      "273246.7484429451 518028.48630780366\n"
     ]
    }
   ],
   "source": [
    "s_rplus_mincost=pd.Series(index=df_VRE.index, data=s_demand-df_VRE.values@portfolio_mincost_sample[:-1]).clip(lower=0)\n",
    "s_rplus_minrisk=pd.Series(index=df_VRE.index, data=s_demand-df_VRE.values@portfolio_minrisk_all).clip(lower=0)\n",
    "\n",
    "annual_cost_mincost=v_allfixed@portfolio_mincost_sample+s_rplus_mincost.sum()/10*gvar\n",
    "annual_cost_minrisk=v_allfixed@np.concatenate([portfolio_minrisk_all, np.array([s_rplus_minrisk.max()])])+\\\n",
    "s_rplus_minrisk.sum()/10*gvar\n",
    "\n",
    "print(annual_cost_mincost, annual_cost_minrisk)"
   ]
  },
  {
   "cell_type": "code",
   "execution_count": null,
   "id": "5ec9e905",
   "metadata": {},
   "outputs": [],
   "source": [
    "# try cost ranging from 240000 to 540000"
   ]
  }
 ],
 "metadata": {
  "kernelspec": {
   "display_name": "Python 3 (ipykernel)",
   "language": "python",
   "name": "python3"
  },
  "language_info": {
   "codemirror_mode": {
    "name": "ipython",
    "version": 3
   },
   "file_extension": ".py",
   "mimetype": "text/x-python",
   "name": "python",
   "nbconvert_exporter": "python",
   "pygments_lexer": "ipython3",
   "version": "3.10.12"
  }
 },
 "nbformat": 4,
 "nbformat_minor": 5
}
